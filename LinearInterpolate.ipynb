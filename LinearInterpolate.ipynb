{
 "cells": [
  {
   "cell_type": "code",
   "execution_count": 1,
   "metadata": {
    "collapsed": false
   },
   "outputs": [],
   "source": [
    "import numpy as np\n",
    "import numba as nb\n",
    "\n",
    "from orderedTableSearch import locate, locate_grid"
   ]
  },
  {
   "cell_type": "code",
   "execution_count": 2,
   "metadata": {
    "collapsed": true
   },
   "outputs": [],
   "source": [
    "#simple linterpolation subroutine with numba\n",
    "#xgrid ans ygrid should be increasing, and the codes do not check it.\n",
    "\n",
    "@nb.jit(nopython=True)\n",
    "def linearinterp(x, x0, x1, y0, y1):\n",
    "\n",
    "    return (y1 - y0)/(x1 - x0)*(x - x0) + y0\n",
    "\n",
    "@nb.jit(nopython=True)\n",
    "def interp_point(x, xgrid, ygrid):\n",
    "    #ind = locate_grid(x, xgrid)\n",
    "    ind = locate(x, xgrid)\n",
    "    return linearinterp(x, xgrid[ind], xgrid[ind+1], ygrid[ind], ygrid[ind+1])\n",
    "\n",
    "@nb.jit(nopython=True)\n",
    "def interp_array(x, xgrid, ygrid):\n",
    "    #x is supposed to be array-like\n",
    "    ind = locate_grid(x, xgrid)\n",
    "    M = len(x)\n",
    "    ans = np.empty(M) #\n",
    "    \n",
    "    for i in range(M):\n",
    "        ix = ind[i]\n",
    "        ans[i] = linearinterp(x[i], xgrid[ix],  xgrid[ix+1], ygrid[ix],  ygrid[ix+1])\n",
    "    \n",
    "    return ans\n",
    "\n",
    "@nb.generated_jit(nopython=True)\n",
    "def interp(x, xgrid, ygrid):\n",
    "    if isinstance(x, nb.types.Float) or isinstance(x, nb.types.Integer) :\n",
    "        return lambda x, xgrid, ygrid: interp_point(x, xgrid, ygrid)\n",
    "    else:\n",
    "        return lambda x, xgrid, ygrid: interp_array(x, xgrid, ygrid)"
   ]
  },
  {
   "cell_type": "code",
   "execution_count": 3,
   "metadata": {
    "collapsed": false
   },
   "outputs": [
    {
     "name": "stdout",
     "output_type": "stream",
     "text": [
      " 0.7988240718841553 seconds\n"
     ]
    },
    {
     "data": {
      "image/png": "[encoded data removed]",
      "text/plain": [
       "<matplotlib.figure.Figure at 0x106b7a908>"
      ]
     },
     "metadata": {},
     "output_type": "display_data"
    }
   ],
   "source": [
    "#testcode\n",
    "if __name__ == '__main__':\n",
    "    \n",
    "    %matplotlib inline\n",
    "    import matplotlib as mpl\n",
    "    mpl.rc(\"savefig\",dpi=100)\n",
    "    from matplotlib import pyplot as plt\n",
    "    import time\n",
    "    \n",
    "    xg = np.linspace(0, 5, 10)\n",
    "    yg = np.exp(xg)\n",
    "    \n",
    "    plt.plot(xg, yg, 'o')\n",
    "    \n",
    "    xvals = np.linspace(0,5, 1000)\n",
    "    \n",
    "    t1 = time.time()\n",
    "    \n",
    "    #xinp = interp_array(xvals, xg, yg)\n",
    "    xinp = interp(xvals, xg, yg)\n",
    "    \n",
    "    t2 = time.time()\n",
    "    print(' {} seconds'.format(t2 - t1))\n",
    "    \n",
    "    plt.plot(xvals, xinp, '--')"
   ]
  },
  {
   "cell_type": "code",
   "execution_count": null,
   "metadata": {
    "collapsed": true
   },
   "outputs": [],
   "source": []
  }
 ],
 "metadata": {
  "kernelspec": {
   "display_name": "Python 3",
   "language": "python",
   "name": "python3"
  },
  "language_info": {
   "codemirror_mode": {
    "name": "ipython",
    "version": 3
   },
   "file_extension": ".py",
   "mimetype": "text/x-python",
   "name": "python",
   "nbconvert_exporter": "python",
   "pygments_lexer": "ipython3",
   "version": "3.6.0"
  }
 },
 "nbformat": 4,
 "nbformat_minor": 1
}
